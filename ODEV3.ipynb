{
 "cells": [
  {
   "cell_type": "markdown",
   "metadata": {},
   "source": [
    "#### Ödev 1\n",
    "Kullanıcıdan pi değeri ve yarıçap bilgisi alarak dairenin alanını hesaplayan bir fonksiyon oluşturulur."
   ]
  },
  {
   "cell_type": "code",
   "execution_count": null,
   "metadata": {},
   "outputs": [],
   "source": [
    "def daire_alani(pi , yaricap):\n",
    "    alan = pi * (yaricap ** 2)\n",
    "    return alan\n",
    "\n",
    "pi = int(input(\"Pi sayısını giriniz: \"))\n",
    "yaricap = int(input(\"Yarıcap uzunluğunu giriniz: \"))\n",
    "alan = daire_alani(pi, yaricap)\n",
    "print(\"Dairenin alanı: \", alan)"
   ]
  },
  {
   "cell_type": "markdown",
   "metadata": {},
   "source": [
    "#### Ödev 2\n",
    "\n",
    "Faktöriyel adında fonksiyon oluşturulur. Döngü kullanarak parametre olarak girilen sayının faktöriyeli hesaplanır. Format metodunu kullanılarak ekrana yazdırılır."
   ]
  },
  {
   "cell_type": "code",
   "execution_count": null,
   "metadata": {},
   "outputs": [],
   "source": [
    "def faktoriyel(n):\n",
    "    sonuc = 1\n",
    "    for i in range(1, n + 1):\n",
    "        sonuc *= i\n",
    "    print(\"{}. sayısının faktöriyeli: {}\".format(n, sonuc))\n",
    "\n",
    "\n",
    "sayi = int(input(\"Bir sayı gir: \"))\n",
    "faktoriyel(sayi)\n"
   ]
  },
  {
   "cell_type": "markdown",
   "metadata": {},
   "source": [
    "#### Ödev 3\n",
    "Kişinin fonksiyona doğum yılını vererek kaç yaşında olduğunu hesaplayan bir fonksiyon oluşturun. "
   ]
  },
  {
   "cell_type": "code",
   "execution_count": null,
   "metadata": {},
   "outputs": [],
   "source": [
    "def yas_hesaplama(dogum_yili):\n",
    "    yas = 2025-dogum_yili\n",
    "    return yas\n",
    "\n",
    "dogum_yili =int(input(\"Doğum yilinizi giriniz: \"))\n",
    "yas = yas_hesaplama( dogum_yili)\n",
    "print(\"Yasiniz: \", yas)\n",
    "\n",
    "\n",
    "\n",
    "\n"
   ]
  },
  {
   "cell_type": "markdown",
   "metadata": {},
   "source": [
    "#### Ödev 4\n",
    "\n",
    "Doğum yılı ve isim bilgisi verilen fonksiyon kişinin emekli olup olmadığını söylesin.(Kişi 65 yaşında ise emekli olur.) Burada yaş hesabını yukarıdaki örnekteki fonksiyonu kullanarak yapsın.(Yani fonksiyon içinde fonksiyon kullanmanızı istiyorum :)) Kişi 65 yaşında ya da daha fazlaysa \"Emekli oldunuz\" yanıtını, 65 yaşından küçükse emekliliğine kaç yıl kaldığını da hesaplayarak \"(isim) emekliliğine (yıl) kaldı.\" yanıtını versin."
   ]
  },
  {
   "cell_type": "code",
   "execution_count": null,
   "metadata": {},
   "outputs": [],
   "source": [
    "def emeklilik_hesaplama(dogum_yili, isim):\n",
    "    yas = yas_hesaplama(dogum_yili)\n",
    "    if yas >= 65:\n",
    "        print(\"Emekli oldunuz.\")\n",
    "    else:\n",
    "        kalan_yil= 65 - yas\n",
    "        print(\"{} emekliliğine {} yıl kaldı.\" .format(isim, kalan_yil))"
   ]
  }
 ],
 "metadata": {
  "language_info": {
   "name": "python"
  }
 },
 "nbformat": 4,
 "nbformat_minor": 2
}
