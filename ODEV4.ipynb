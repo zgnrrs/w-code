{
 "cells": [
  {
   "cell_type": "markdown",
   "metadata": {
    "id": "tE9ZjH5lQn2-"
   },
   "source": [
    "### Ödev 1\n",
    "\n",
    "liste = [\"Python\",True,9,\"3\",8.4,\"Hi-Kod\",\"False\",4.7]\n",
    "\n",
    "1. Aşağıdaki işlemleri indexing ve slicing kullanarak liste üzerinde uygulayın.\n",
    "\n",
    "   - \"3\" değerine ulaşmak için indexleme yapın.\n",
    "   - \"Hi-Kod\" değerine ulaşmak için indexleme yapın.\n",
    "   - 4.7 değerine ulaşmak için indexleme yapın.\n",
    "   - 9,\"3\",8.4,\"Hi-Kod\" değerlerine ulaşmak için slicing yapın.\n",
    "   - 8.4,\"Hi-Kod\",\"False\",4.7 değerlerine ulaşmak için slicing yapın."
   ]
  },
  {
   "cell_type": "code",
   "execution_count": null,
   "metadata": {
    "id": "AhOkYXjIQn3E"
   },
   "outputs": [],
   "source": [
    "liste = [\"Python\", True, 9, \"3\", 8.4, \"Hi-Kod\", \"False\", 4.7]\n",
    "print(liste[3])\n",
    "print(liste[5])\n",
    "print(liste[7])\n",
    "print(liste[2:6])\n",
    "print(liste[4:8])\n"
   ]
  },
  {
   "cell_type": "markdown",
   "metadata": {
    "id": "PU_vatZVQn3E"
   },
   "source": [
    "### Ödev 2\n",
    "\n",
    "Verilen listede bulunan string veri tipindeki öğeleri yeni_liste isimli listeye eklenir.\n",
    "\n",
    "liste = [\"Python\",True,9,\"3\",8.4,\"Hi-Kod\",\"False\",4.7]"
   ]
  },
  {
   "cell_type": "code",
   "execution_count": null,
   "metadata": {
    "id": "k036-a4qQn3F"
   },
   "outputs": [],
   "source": [
    "liste = [\"Python\", True, 9, \"3\", 8.4, \"Hi-Kod\", \"False\", 4.7]\n",
    "yeni_liste = []\n",
    "for i in liste:\n",
    "    if type(i) == str:\n",
    "        yeni_liste.append(i)\n",
    "print(yeni_liste)"
   ]
  },
  {
   "cell_type": "markdown",
   "metadata": {
    "id": "LKspMidRQn3G"
   },
   "source": [
    "### Ödev 3\n",
    "\n",
    "Enumerate methodunu araştırın ve aşağıdaki örneği enumerate methodu ile yapın."
   ]
  },
  {
   "cell_type": "code",
   "execution_count": null,
   "metadata": {
    "id": "uKwshjmAQn3G"
   },
   "outputs": [],
   "source": [
    "for index in range(len(meyveler)):\n",
    "\n",
    "    print(\"{}. indexte bulunan meyve: {}\".format(index,meyveler[index]))"
   ]
  },
  {
   "cell_type": "markdown",
   "metadata": {
    "id": "ZmwK7TWhQn3H"
   },
   "source": []
  },
  {
   "cell_type": "code",
   "execution_count": null,
   "metadata": {},
   "outputs": [],
   "source": [
    "meyveler= [\"Elma\" , \"Armut\", \"Muz\", \"Çilek\" , \"Kivi\"]\n",
    "for index, meyve in enumerate(meyveler):\n",
    "    print(\"{} indexte bulunan meyve: {}\" .format(index, meyve))"
   ]
  },
  {
   "cell_type": "markdown",
   "metadata": {
    "id": "M_DfcqxXQubL"
   },
   "source": [
    "## Sozluk"
   ]
  },
  {
   "cell_type": "markdown",
   "metadata": {
    "id": "ZMXFFucEQxxD"
   },
   "source": [
    "1. Bir sözlük oluşturulur ve bu sözlükte öğrencilerin isimleri ve Matematik, Fizik, Kimya notları tutulur. Kullanıcıdan isim ve ders ismi(Matematik, Fizik, Kimya) istenir ve bu bilgilere göre çıktı verilir."
   ]
  },
  {
   "cell_type": "markdown",
   "metadata": {
    "id": "8NJYTepzQ13V"
   },
   "source": [
    "2. Sözlük üzerinde değerleri değiştirme, yeni değer ekleme, kullanıcıya ulaşmak istediği bilgileri sorma gibi uygulamalar yapın."
   ]
  },
  {
   "cell_type": "code",
   "execution_count": null,
   "metadata": {
    "id": "Sl7EK7FDQsW1"
   },
   "outputs": [],
   "source": [
    "\n",
    "notlar = {\n",
    "    \"Ahmet\": {\"Matematik\": 85, \"Fizik\": 90, \"Kimya\": 78},\n",
    "    \"Ayşe\": {\"Matematik\": 92, \"Fizik\": 88, \"Kimya\": 95},\n",
    "    \"Mehmet\": {\"Matematik\": 76, \"Fizik\": 80, \"Kimya\": 85}\n",
    "}\n",
    "\n",
    "isim = input(\"Öğrencinin adını girin: \")\n",
    "ders = input(\"Ders adını girin (Matematik, Fizik, Kimya): \")\n",
    "\n",
    "if isim in notlar:\n",
    "    if ders in notlar[isim]:\n",
    "        print(f\"{isim} adlı öğrencinin {ders} notu: {notlar[isim][ders]}\")\n",
    "    else:\n",
    "        print(f\"{ders} dersi bulunamadı.\")\n",
    "else:\n",
    "    print(f\"{isim} isimli öğrenci listede yok.\")\n",
    "\n",
    "print(\"\\n--- Sözlük Üzerinde İşlemler ---\")\n",
    "\n",
    "guncelle = input(\"Bir öğrencinin notunu güncellemek ister misiniz? (evet/hayır): \").lower()\n",
    "if guncelle == \"evet\":\n",
    "    ogrenci = input(\"Öğrenci adı: \")\n",
    "    if ogrenci in notlar:\n",
    "        ders_adi = input(\"Güncellenecek ders adı: \")\n",
    "        if ders_adi in notlar[ogrenci]:\n",
    "            yeni_not = int(input(\"Yeni notu girin: \"))\n",
    "            notlar[ogrenci][ders_adi] = yeni_not\n",
    "            print(\"Not güncellendi:\", notlar[ogrenci])\n",
    "        else:\n",
    "            print(f\"{ders_adi} dersi bulunamadı.\")\n",
    "    else:\n",
    "        print(\"Öğrenci bulunamadı.\")\n",
    "\n",
    "\n",
    "ekle = input(\"\\nYeni öğrenci eklemek ister misiniz? (evet/hayır): \").lower()\n",
    "if ekle == \"evet\":\n",
    "    yeni_ogrenci = input(\"Öğrenci adı: \")\n",
    "    mat = int(input(\"Matematik notu: \"))\n",
    "    fiz = int(input(\"Fizik notu: \"))\n",
    "    kim = int(input(\"Kimya notu: \"))\n",
    "    notlar[yeni_ogrenci] = {\"Matematik\": mat, \"Fizik\": fiz, \"Kimya\": kim}\n",
    "    print(\"Öğrenci eklendi:\", notlar[yeni_ogrenci])\n",
    "\n",
    "\n",
    "print(\"\\n--- Güncel Liste ---\")\n",
    "for ogrenci, dersler in notlar.items():\n",
    "    print(ogrenci, \":\", dersler)\n"
   ]
  }
 ],
 "metadata": {
  "colab": {
   "provenance": []
  },
  "language_info": {
   "name": "python"
  }
 },
 "nbformat": 4,
 "nbformat_minor": 0
}
