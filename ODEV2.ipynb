{
 "cells": [
  {
   "cell_type": "markdown",
   "id": "409f0f4a",
   "metadata": {},
   "source": [
    "**Ödev-1:** Kullanıcıdan maaş bilgisini istenir ve bu bilgiye göre maaşından ne kadar vergi kesileceğini hesaplanır. Kullanıcının geliri;\n",
    "\n",
    "1. 10000 ve altındaysa maaşından %5 kesinti olur.\n",
    "2. 25000 ve altındaysa maaşından %10 kesinti olur.\n",
    "3. 45000 ve altındaysa maaşından %25 kesinti olur.\n",
    "4. Diğer koşullarda %30 kesinti olur.\n",
    "\n",
    "Bu durumlara göre kullanıcının yeni maaşı yazdırılır."
   ]
  },
  {
   "cell_type": "code",
   "execution_count": 1,
   "id": "5246e510",
   "metadata": {},
   "outputs": [
    {
     "name": "stdout",
     "output_type": "stream",
     "text": [
      "Vergi sonrası maasınız: 31500.0 TL'dir\n"
     ]
    }
   ],
   "source": [
    "def vergihesabi(maas):\n",
    "    if maas <=10000:\n",
    "        vergi = maas*0.95\n",
    "    elif maas > 10000 and maas <= 25000:\n",
    "        vergi = maas*0.90\n",
    "    elif maas > 25000 and maas <= 45000:\n",
    "        vergi =  maas * 0.75\n",
    "    else:\n",
    "        vergi = maas * 0.70\n",
    "    \n",
    "    return vergi\n",
    "\n",
    "ham_maas = float(input(\"Maasınızı giriniz: \"))\n",
    "tam_maas = vergihesabi(ham_maas)\n",
    "print(f\"Vergi sonrası maasınız: {tam_maas} TL'dir\")"
   ]
  },
  {
   "cell_type": "markdown",
   "id": "f5fe8798",
   "metadata": {},
   "source": [
    "**Ödev-2:** Kullanıcıdan kullanıcı adı ve şifre oluşturmasını istenir. Şifrenin uzunluğu altı haneye ulaşmışsa hesabınız oluşturuldu mesajı alınır, altı haneden azsa altı haneli şifre oluşturması gerektiğinin mesajı alınır. *(Sadece koşul kullanılması yeterli.)*"
   ]
  },
  {
   "cell_type": "code",
   "execution_count": null,
   "id": "6acffe57",
   "metadata": {},
   "outputs": [],
   "source": [
    "kullanici_adi = input(\"Kullanici adinizi giriniz: \")\n",
    "sifre = input(\"Sifrenizi giriniz: \")\n",
    "if len(sifre)<6:\n",
    "    print(\"lütfen en az 6 haneli bir sifre olusturunuz.\")\n",
    "else:\n",
    "    print(\"hesabiniz olustururldu.\")"
   ]
  },
  {
   "cell_type": "markdown",
   "id": "aaccf11a",
   "metadata": {},
   "source": [
    "**Ödev-3:** Bir önceki örnek geliştirilir.\n",
    "\n",
    "1. Kullanıcı girdiği şifre 5 ve 10 hane arasında olmak zorunda.\n",
    "2. Eğer bu koşula uyuyorsa \"Hesabınız oluşturuldu.\" mesajı alır.\n",
    "3. Koşulu sağlamıyorsa \"Lütfen girdiniz şifre 5 haneden az 10 haneden fazla olmasın!\" uyarısı alır.\n",
    "4. Bunu oluştururken kullanıcı istediğimiz şartlarda şifre oluşturana kadar sormaya devam eder"
   ]
  },
  {
   "cell_type": "code",
   "execution_count": 5,
   "id": "039e50dc",
   "metadata": {},
   "outputs": [
    {
     "name": "stdout",
     "output_type": "stream",
     "text": [
      "Sifreniz 5 haneden kısa ve 10 haneden uzun olamaz.\n",
      "hesabiniz olusturuldu\n"
     ]
    }
   ],
   "source": [
    "\n",
    "while True:\n",
    "    kullanici_sifre = input(\"Sifrenizi giriniz:\")\n",
    "    if len(kullanici_sifre) < 10 and len(kullanici_sifre)> 5:\n",
    "        print(\"hesabiniz olusturuldu\")\n",
    "        break\n",
    "    else:\n",
    "        print(\"Sifreniz 5 haneden kısa ve 10 haneden uzun olamaz.\")"
   ]
  },
  {
   "cell_type": "markdown",
   "id": "8ba81863",
   "metadata": {},
   "source": [
    "**Ödev-4:** Kullanıcıdan isim ve şifre isteyeceğiz ve şifre girişi için üç hak verilir.\n",
    "\n",
    "1. Eğer önceden tanımlı şifre ile kullanıcıdan gelen şifre aynıysa \"Giriş yapıldı.\" yazar.\n",
    "2. Şifre girişi yanlışsa \"Yanlış şifre girildi!\" uyarısı verilsin ve üç yanlış denemede program biter.\n",
    "3. Tercihe göre kalan hak bilgisi verilir."
   ]
  },
  {
   "cell_type": "code",
   "execution_count": null,
   "id": "8f45ea0c",
   "metadata": {},
   "outputs": [],
   "source": [
    "dogru_sifre = \"123456\"\n",
    "isim = input(\"Kullanici adinizi giriniz: \")\n",
    "hak = 3\n",
    "while hak > 0:\n",
    "    sifreniz = input(\"Sifeenizi giriniz: \")\n",
    "    if sifreniz == dogru_sifre:\n",
    "        print(\"Giris yapildi\")\n",
    "        break\n",
    "    else:\n",
    "        hak -= 1\n",
    "        if hak == 0:\n",
    "            print(\"Hakkınız bitti\")\n",
    "        else:\n",
    "            print(f\"Yanlıs sifre! {hak} hakkınız kaldı. Tekrar deneyiniz \")"
   ]
  }
 ],
 "metadata": {
  "kernelspec": {
   "display_name": "Python 3",
   "language": "python",
   "name": "python3"
  },
  "language_info": {
   "codemirror_mode": {
    "name": "ipython",
    "version": 3
   },
   "file_extension": ".py",
   "mimetype": "text/x-python",
   "name": "python",
   "nbconvert_exporter": "python",
   "pygments_lexer": "ipython3",
   "version": "3.12.1"
  }
 },
 "nbformat": 4,
 "nbformat_minor": 5
}
