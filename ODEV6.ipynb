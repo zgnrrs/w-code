{
 "cells": [
  {
   "cell_type": "markdown",
   "id": "44853d59",
   "metadata": {},
   "source": [
    "1. Sayılardan oluşan bir boyutlu array oluşturun. Arrayi oluştururken sayıların veri tipini integer olarak belirtelim.\n",
    "\n",
    "Oluşturulan arrayin boyut, eleman sayısı bilgilerine bakalım.\n",
    "\n"
   ]
  },
  {
   "cell_type": "code",
   "execution_count": 1,
   "id": "9519c960",
   "metadata": {},
   "outputs": [
    {
     "name": "stdout",
     "output_type": "stream",
     "text": [
      "Array: [1 2 3 4 5 6]\n",
      "Boyut sayısı: 1\n",
      "Eleman sayısı: 6\n",
      "Şekil: (6,)\n",
      "Veri tipi: int64\n"
     ]
    }
   ],
   "source": [
    "import numpy as np\n",
    "\n",
    "\n",
    "arr = np.array([1, 2, 3, 4, 5, 6], dtype=int)\n",
    "\n",
    "\n",
    "print(\"Array:\", arr)\n",
    "\n",
    "\n",
    "print(\"Boyut sayısı:\", arr.ndim)\n",
    "\n",
    "\n",
    "print(\"Eleman sayısı:\", arr.size)\n",
    "\n",
    "\n",
    "print(\"Şekil:\", arr.shape)\n",
    "\n",
    "\n",
    "print(\"Veri tipi:\", arr.dtype)\n"
   ]
  },
  {
   "cell_type": "markdown",
   "id": "1abce118",
   "metadata": {},
   "source": [
    "2. Aşağıda verilen iki boyutlu ve üç boyutlu arrayi oluşturalım. Bu arraylerin boyut, eleman sayısı, satır, sütun bilgilerine ulaşalım.\n",
    "\n",
    "İki boyutlu array:\n",
    "[[1,2,6,7],\n",
    "[4,3,9,5]]\n",
    "\n",
    "Üç boyutlu array:\n",
    "[[[7,5,14],[21,8,11]],\n",
    "[[8,6,20],[14,3,9]]]\n",
    "\n"
   ]
  },
  {
   "cell_type": "code",
   "execution_count": null,
   "id": "a805f820",
   "metadata": {},
   "outputs": [],
   "source": [
    "import numpy as np\n",
    "\n",
    "\n",
    "arr2d = np.array([[1,2,6,7],\n",
    "                  [4,3,9,5]])\n",
    "\n",
    "print(\"İki Boyutlu Array:\")\n",
    "print(arr2d)\n",
    "print(\"Boyut (ndim):\", arr2d.ndim)  \n",
    "print(\"Shape (satır, sütun):\", arr2d.shape) \n",
    "print(\"Eleman Sayısı (size):\", arr2d.size)    \n",
    "print()\n",
    "\n",
    "\n",
    "arr3d = np.array([[[7,5,14],[21,8,11]],\n",
    "                  [[8,6,20],[14,3,9]]])\n",
    "\n",
    "print(\"Üç Boyutlu Array:\")\n",
    "print(arr3d)\n",
    "print(\"Boyut (ndim):\", arr3d.ndim)   \n",
    "print(\"Shape:\", arr3d.shape)         \n",
    "print(\"Eleman Sayısı (size):\", arr3d.size)\n"
   ]
  },
  {
   "cell_type": "markdown",
   "id": "90b17f9d",
   "metadata": {},
   "source": [
    "3. İstenilen elamanlara ulaşmak için arrayler üzerinde indexleme işlemi yapalım.\n",
    "\n",
    "İki boyutlu arraydaki 2 elemanına ulaşalım.\n",
    "\n",
    "İki boyutlu arraydaki 7 elemanına ulaşalım.\n",
    "\n",
    "Üç boyutlu arraydaki 9 elemanına ulaşalım.\n",
    "\n",
    "Üç boyutlu arraydaki 5 elemanına ulaşalım.\n",
    "\n"
   ]
  },
  {
   "cell_type": "code",
   "execution_count": null,
   "id": "b79f6f07",
   "metadata": {},
   "outputs": [],
   "source": [
    "import numpy as np\n",
    "\n",
    "\n",
    "arr2d = np.array([[1,2,6,7],\n",
    "                  [4,3,9,5]])\n",
    "\n",
    "\n",
    "arr3d = np.array([[[7,5,14],[21,8,11]],\n",
    "                  [[8,6,20],[14,3,9]]])\n",
    "\n",
    "\n",
    "\n",
    "print(\"İki Boyutlu Array 2 elemanı:\", arr2d[0,1])  \n",
    "print(\"İki Boyutlu Array 7 elemanı:\", arr2d[0,3]) \n",
    "\n",
    "\n",
    "print(\"Üç Boyutlu Array 9 elemanı:\", arr3d[1,1,2])  \n",
    "print(\"Üç Boyutlu Array 5 elemanı:\", arr3d[0,0,1])  \n"
   ]
  },
  {
   "cell_type": "markdown",
   "id": "fb573d38",
   "metadata": {},
   "source": [
    "4. Arrayler üzerinde slicing işlemi uygulayalım.\n",
    "\n",
    "İki boyutlu arraydaki 2,6 elemanlarına ulaşalım.\n",
    "\n",
    "İki boyutlu arraydaki 3,9,5 elemanlarına ulaşalım.\n",
    "\n",
    "Üç boyutlu arraydaki 21,8,11 elemanlarına ulaşalım.\n",
    "\n",
    "Üç boyutlu arraydaki 6,20 elemanlarına ulaşalım.\n",
    "\n"
   ]
  },
  {
   "cell_type": "code",
   "execution_count": null,
   "id": "4f32f048",
   "metadata": {},
   "outputs": [],
   "source": [
    "\n",
    "print(\"İki Boyutlu Array 2,6 elemanları:\", arr2d[0,1:3])  \n",
    "print(\"İki Boyutlu Array 3,9,5 elemanları:\", arr2d[1,1:4]) \n",
    "\n",
    "\n",
    "print(\"Üç Boyutlu Array 21,8,11 elemanları:\", arr3d[0,1,:]) \n",
    "print(\"Üç Boyutlu Array 6,20 elemanları:\", arr3d[1,0,1:3])   \n"
   ]
  },
  {
   "cell_type": "markdown",
   "id": "6a0fc94b",
   "metadata": {},
   "source": [
    "5. 5 satır 3 sütunluk sıfırlardan ve birlerden oluşan iki tane iki boyutlu array oluşturalım. Bu arrayleri satır ve sütun bazında birleştirelim."
   ]
  },
  {
   "cell_type": "code",
   "execution_count": 2,
   "id": "c73e3144",
   "metadata": {},
   "outputs": [
    {
     "name": "stdout",
     "output_type": "stream",
     "text": [
      "Sıfırlardan oluşan array:\n",
      " [[0 0 0]\n",
      " [0 0 0]\n",
      " [0 0 0]\n",
      " [0 0 0]\n",
      " [0 0 0]]\n",
      "Birlerden oluşan array:\n",
      " [[1 1 1]\n",
      " [1 1 1]\n",
      " [1 1 1]\n",
      " [1 1 1]\n",
      " [1 1 1]]\n",
      "\n",
      "Satır bazında birleştirme (vstack):\n",
      " [[0 0 0]\n",
      " [0 0 0]\n",
      " [0 0 0]\n",
      " [0 0 0]\n",
      " [0 0 0]\n",
      " [1 1 1]\n",
      " [1 1 1]\n",
      " [1 1 1]\n",
      " [1 1 1]\n",
      " [1 1 1]]\n",
      "\n",
      "Sütun bazında birleştirme (hstack):\n",
      " [[0 0 0 1 1 1]\n",
      " [0 0 0 1 1 1]\n",
      " [0 0 0 1 1 1]\n",
      " [0 0 0 1 1 1]\n",
      " [0 0 0 1 1 1]]\n"
     ]
    }
   ],
   "source": [
    "\n",
    "\n",
    "\n",
    "arr_sifir = np.zeros((5,3), dtype=int)\n",
    "\n",
    "\n",
    "arr_bir = np.ones((5,3), dtype=int)\n",
    "\n",
    "print(\"Sıfırlardan oluşan array:\\n\", arr_sifir)\n",
    "print(\"Birlerden oluşan array:\\n\", arr_bir)\n",
    "\n",
    "\n",
    "satir_birlestirme = np.vstack((arr_sifir, arr_bir))\n",
    "print(\"\\nSatır bazında birleştirme (vstack):\\n\", satir_birlestirme)\n",
    "\n",
    "\n",
    "sutun_birlestirme = np.hstack((arr_sifir, arr_bir))\n",
    "print(\"\\nSütun bazında birleştirme (hstack):\\n\", sutun_birlestirme)\n"
   ]
  }
 ],
 "metadata": {
  "kernelspec": {
   "display_name": "Python 3",
   "language": "python",
   "name": "python3"
  },
  "language_info": {
   "codemirror_mode": {
    "name": "ipython",
    "version": 3
   },
   "file_extension": ".py",
   "mimetype": "text/x-python",
   "name": "python",
   "nbconvert_exporter": "python",
   "pygments_lexer": "ipython3",
   "version": "3.12.1"
  }
 },
 "nbformat": 4,
 "nbformat_minor": 5
}
