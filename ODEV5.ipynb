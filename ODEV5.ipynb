{
 "cells": [
  {
   "cell_type": "code",
   "execution_count": null,
   "id": "40fba373",
   "metadata": {},
   "outputs": [],
   "source": [
    "Sözlük:\n",
    "\n",
    "Bir sözlük oluşturulur ve bu sözlükte öğrencilerin isimleri ve Matematik, Fizik, Kimya notları tutulur. Kullanıcıdan isim ve ders ismi(Matematik, Fizik, Kimya) istenir ve bu bilgilere göre çıktı verilir.\n",
    "\n",
    "Sözlük üzerinde değerleri değiştirme, yeni değer ekleme, kullanıcıya ulaşmak istediği bilgileri sorma gibi uygulamalar yapın."
   ]
  },
  {
   "cell_type": "code",
   "execution_count": null,
   "id": "ef244759",
   "metadata": {},
   "outputs": [],
   "source": [
    "\n",
    "\n",
    "notlar = {\n",
    "    \"Ahmet\": {\"Matematik\": 85, \"Fizik\": 90, \"Kimya\": 78},\n",
    "    \"Ayşe\": {\"Matematik\": 92, \"Fizik\": 88, \"Kimya\": 95},\n",
    "    \"Mehmet\": {\"Matematik\": 76, \"Fizik\": 80, \"Kimya\": 85}\n",
    "}\n",
    "\n",
    "\n",
    "isim = input(\"Öğrencinin adını girin: \")\n",
    "ders = input(\"Ders adını girin (Matematik, Fizik, Kimya): \")\n",
    "\n",
    "if isim in notlar and ders in notlar[isim]:\n",
    "    print(f\"{isim} adlı öğrencinin {ders} notu: {notlar[isim][ders]}\")\n",
    "else:\n",
    "    print(\"Öğrenci veya ders bulunamadı.\")\n",
    "\n",
    "\n",
    "guncelle = input(\"\\nBir not güncellemek ister misiniz? (evet/hayır): \").lower()\n",
    "if guncelle == \"evet\":\n",
    "    ogrenci = input(\"Öğrenci adı: \")\n",
    "    ders_adi = input(\"Ders adı: \")\n",
    "    yeni_not = int(input(\"Yeni notu girin: \"))\n",
    "    if ogrenci in notlar:\n",
    "        notlar[ogrenci][ders_adi] = yeni_not\n",
    "    else:\n",
    "        print(\"Öğrenci bulunamadı.\")\n",
    "    print(\"Güncel sözlük:\", notlar)\n",
    "\n",
    "\n",
    "ekle = input(\"\\nYeni öğrenci eklemek ister misiniz? (evet/hayır): \").lower()\n",
    "if ekle == \"evet\":\n",
    "    yeni_ogrenci = input(\"Yeni öğrenci adı: \")\n",
    "    mat = int(input(\"Matematik notu: \"))\n",
    "    fiz = int(input(\"Fizik notu: \"))\n",
    "    kim = int(input(\"Kimya notu: \"))\n",
    "    notlar[yeni_ogrenci] = {\"Matematik\": mat, \"Fizik\": fiz, \"Kimya\": kim}\n",
    "    print(\"Yeni öğrenci eklendi:\", notlar[yeni_ogrenci])\n",
    "\n",
    "\n",
    "print(\"\\n--- Güncel Bilgi Sorgulama ---\")\n",
    "isim = input(\"Hangi öğrencinin bilgilerini görmek istersiniz?: \")\n",
    "if isim in notlar:\n",
    "    print(f\"{isim} adlı öğrencinin bilgileri:\", notlar[isim])\n",
    "else:\n",
    "    print(\"Öğrenci bulunamadı.\")\n",
    "\n"
   ]
  }
 ],
 "metadata": {
  "language_info": {
   "name": "python"
  }
 },
 "nbformat": 4,
 "nbformat_minor": 5
}
