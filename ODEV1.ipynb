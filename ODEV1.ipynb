{
 "cells": [
  {
   "cell_type": "markdown",
   "id": "032d81b2",
   "metadata": {},
   "source": [
    "# 1\n",
    "x = 3 ----> floata çevirelim. Çevirdikten sonra beri tipinide yazdıralım.\n",
    "\n",
    "y = 4.5 -----> integere çevirelim. Çevirdikten sonra beri tipinide yazdıralım.\n",
    "\n",
    "z = \"8\" -----> integera çevirelim. Çevirdikten sonra beri tipinide yazdıralım.\n",
    "\n",
    "a = \"12\" -----> floata çevirelim. Çevirdikten sonra beri tipinide yazdıralım.\n",
    "\n",
    "b = \"46.8\" ------> integera çevirelim. Çevirdikten sonra beri tipinide yazdıralım."
   ]
  },
  {
   "cell_type": "code",
   "execution_count": null,
   "id": "f1b735c0",
   "metadata": {},
   "outputs": [
    {
     "name": "stdout",
     "output_type": "stream",
     "text": [
      "<class 'int'>\n",
      "<class 'int'>\n",
      "<class 'float'>\n",
      "<class 'int'>\n"
     ]
    }
   ],
   "source": [
    "x = 3\n",
    "y = 4.5\n",
    "z = \"8\"\n",
    "a = \"12\"\n",
    "b = \"46.8\"\n",
    "newx = float(x)\n",
    "newy = int(y)\n",
    "newz = int (z)\n",
    "newa = float(a)\n",
    "newb = int(float(b))\n",
    "\n",
    "print(type(newx))\n",
    "print(type(newy))\n",
    "print(type(newz))\n",
    "print(type(newa))\n",
    "print(type(newb))\n",
    "\n"
   ]
  },
  {
   "cell_type": "markdown",
   "id": "95509718",
   "metadata": {},
   "source": [
    "# 2 \n",
    "İsimlerden oluşan üç değişkene yaş değerleri atanır. Belirlenen üç değişken birbiriyle karşılaştırma operatörleri ile karşılaştırılır. Bu karşılaştırmalara mantıksal operatörler de eklenir."
   ]
  },
  {
   "cell_type": "code",
   "execution_count": 11,
   "id": "50f77b4f",
   "metadata": {},
   "outputs": [
    {
     "name": "stdout",
     "output_type": "stream",
     "text": [
      "Ali En büyük\n"
     ]
    }
   ],
   "source": [
    "ali = 20\n",
    "ahmet= 8\n",
    "mehmet= 12\n",
    "\n",
    "if ali > ahmet and ali > mehmet:\n",
    "    print(\"Ali En büyük\")\n",
    "elif ahmet > ali and ahmet > mehmet:\n",
    "    print(\"Ahmet en büyük\")\n",
    "elif mehmet > ali and mehmet > ahmet:\n",
    "    print(\"Mehmet en büyük\")        \n",
    "\n"
   ]
  },
  {
   "cell_type": "markdown",
   "id": "a1a0eb92",
   "metadata": {},
   "source": [
    "# 3\n",
    "Kullanıcıdan iki değer girmesini istenir. Girilen değerlerin toplama, çıkarma, çarpma, bölme sonuçlarını yazdırılır."
   ]
  },
  {
   "cell_type": "code",
   "execution_count": 13,
   "id": "c361e45a",
   "metadata": {},
   "outputs": [
    {
     "name": "stdout",
     "output_type": "stream",
     "text": [
      "Toplam : 46 , Fark: 42, Carpim : 88, Bolme: 22.0\n"
     ]
    }
   ],
   "source": [
    "sayi1 = int(input(\"Birinci sayıyı giriniz: \"))\n",
    "sayi2 = int(input(\"Ikinci sayiyi giriniz: \"))\n",
    "toplam = sayi1 + sayi2\n",
    "if sayi1 > sayi2:\n",
    "    fark = sayi1 - sayi2\n",
    "else:\n",
    "    fark = sayi2 - sayi1\n",
    "\n",
    "carpim = sayi1 * sayi2\n",
    "if sayi2 != 0:\n",
    "    bolme = sayi1 / sayi2\n",
    "else:\n",
    "    bolme = \"Bolen sayi 0 olamaz!\"\n",
    "\n",
    "print(f\"Toplam : {toplam} , Fark: {fark}, Carpim : {carpim}, Bolme: {bolme}\")\n",
    "\n"
   ]
  },
  {
   "cell_type": "markdown",
   "id": "060b0bea",
   "metadata": {},
   "source": [
    "# 4\n",
    "Kullanıcıdan isim, yaş, şehir ve meslek bilgilerini istenir ve cevaplarını yazdırılır."
   ]
  },
  {
   "cell_type": "code",
   "execution_count": 14,
   "id": "6f5dea59",
   "metadata": {},
   "outputs": [
    {
     "name": "stdout",
     "output_type": "stream",
     "text": [
      "Adiniz: Ozge , Yasiniz: 20, Sehir: tekirdag, Meslek: muhendis\n"
     ]
    }
   ],
   "source": [
    "isim = input(\"Lutfen adinizi giriniz: \")\n",
    "yas = int(input(\"Lutfen yasinizi giriniz: \"))\n",
    "sehir = input(\"Lutfen sehrinizi yaziniz: \")\n",
    "meslek = input(\"Lutfen mesleginizi yaziniz: \")\n",
    "\n",
    "print(f\"Adiniz: {isim} , Yasiniz: {yas}, Sehir: {sehir}, Meslek: {meslek}\")"
   ]
  },
  {
   "cell_type": "markdown",
   "id": "55e1a34e",
   "metadata": {},
   "source": [
    "# 5\n",
    "\"Hi-Kod Veri Bilimi Atölyesi\" ifadesini bir değişkene tanımlanır.\n",
    "\n",
    "\n",
    " 1. İfadedeki her bir kelimeyi (\"Hi-Kod\", \"Veri\", \"Bilimi\", \"Atölyesi\") değişken içinden seçilir. \n",
    " 2. İfadeyi hepsini büyük harf olacak hale çevrilir. (\"HI-KOD VERİ BİLİMİ ATÖLYESİ\") \n",
    " 3. İfadeyi hepsini büyük harf olacak hale çevrilir.(\"hi-kod veri bilimi atölyesi\") \n",
    "\n",
    "\"0123456789\" ifadesindeki yalnızca çift sayıları ve yalnızca tek sayıları seçilir. (\"02468\", \"13579\")"
   ]
  },
  {
   "cell_type": "code",
   "execution_count": 15,
   "id": "0fc1bc40",
   "metadata": {},
   "outputs": [
    {
     "name": "stdout",
     "output_type": "stream",
     "text": [
      "['Hi-Kod', 'Veri', 'Bilimi', 'Atölyesi']\n",
      "HI-KOD VERI BILIMI ATÖLYESI\n",
      "hi-kod veri bilimi atölyesi\n",
      "02468\n",
      "13579\n"
     ]
    }
   ],
   "source": [
    "metin = \"Hi-Kod Veri Bilimi Atölyesi\"\n",
    "kelimeler = metin.split()\n",
    "print(kelimeler)\n",
    "\n",
    "buyukharf = metin.upper()\n",
    "print(buyukharf)\n",
    "\n",
    "kucukharf = metin.lower()\n",
    "print(kucukharf)\n",
    "\n",
    "sayi = \"0123456789\"\n",
    "cift = sayi[::2]\n",
    "tek = sayi[1::2]\n",
    "print(cift)\n",
    "print(tek)\n"
   ]
  }
 ],
 "metadata": {
  "kernelspec": {
   "display_name": "Python 3",
   "language": "python",
   "name": "python3"
  },
  "language_info": {
   "codemirror_mode": {
    "name": "ipython",
    "version": 3
   },
   "file_extension": ".py",
   "mimetype": "text/x-python",
   "name": "python",
   "nbconvert_exporter": "python",
   "pygments_lexer": "ipython3",
   "version": "3.12.1"
  }
 },
 "nbformat": 4,
 "nbformat_minor": 5
}
